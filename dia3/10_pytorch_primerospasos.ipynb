{
  "nbformat": 4,
  "nbformat_minor": 0,
  "metadata": {
    "colab": {
      "provenance": []
    },
    "kernelspec": {
      "name": "python3",
      "display_name": "Python 3"
    },
    "language_info": {
      "name": "python"
    }
  },
  "cells": [
    {
      "cell_type": "code",
      "execution_count": 1,
      "metadata": {
        "id": "WJRHRka28hho"
      },
      "outputs": [],
      "source": [
        "import torch"
      ]
    },
    {
      "cell_type": "code",
      "source": [
        "torch.__version__"
      ],
      "metadata": {
        "colab": {
          "base_uri": "https://localhost:8080/",
          "height": 35
        },
        "id": "tvGPyAXX81nL",
        "outputId": "6ab21f82-45e4-4b98-d93d-042009f43ebb"
      },
      "execution_count": 2,
      "outputs": [
        {
          "output_type": "execute_result",
          "data": {
            "text/plain": [
              "'2.4.1+cu121'"
            ],
            "application/vnd.google.colaboratory.intrinsic+json": {
              "type": "string"
            }
          },
          "metadata": {},
          "execution_count": 2
        }
      ]
    },
    {
      "cell_type": "code",
      "source": [
        "array = [1,2,3]\n",
        "type(array)"
      ],
      "metadata": {
        "colab": {
          "base_uri": "https://localhost:8080/"
        },
        "id": "EYpcIad7894C",
        "outputId": "4e793534-84a2-4b82-f0d2-acb4e4d9cbc8"
      },
      "execution_count": 3,
      "outputs": [
        {
          "output_type": "execute_result",
          "data": {
            "text/plain": [
              "list"
            ]
          },
          "metadata": {},
          "execution_count": 3
        }
      ]
    },
    {
      "cell_type": "code",
      "source": [
        "escalar = torch.randn(1)\n",
        "type(escalar)"
      ],
      "metadata": {
        "colab": {
          "base_uri": "https://localhost:8080/"
        },
        "id": "bctqQt0E9Cyr",
        "outputId": "6a29c8bf-6f84-4c27-8fe7-5f86ea4613c8"
      },
      "execution_count": 4,
      "outputs": [
        {
          "output_type": "execute_result",
          "data": {
            "text/plain": [
              "torch.Tensor"
            ]
          },
          "metadata": {},
          "execution_count": 4
        }
      ]
    },
    {
      "cell_type": "code",
      "source": [
        "vector = torch.zeros(1,10)\n",
        "vector"
      ],
      "metadata": {
        "colab": {
          "base_uri": "https://localhost:8080/"
        },
        "id": "1Kb5I50o9KXr",
        "outputId": "34127e75-05f3-4b53-85a6-f86950e5e7a4"
      },
      "execution_count": 5,
      "outputs": [
        {
          "output_type": "execute_result",
          "data": {
            "text/plain": [
              "tensor([[0., 0., 0., 0., 0., 0., 0., 0., 0., 0.]])"
            ]
          },
          "metadata": {},
          "execution_count": 5
        }
      ]
    },
    {
      "cell_type": "code",
      "source": [
        "type(vector)"
      ],
      "metadata": {
        "colab": {
          "base_uri": "https://localhost:8080/"
        },
        "id": "0ep8bkjA9O2z",
        "outputId": "29e21760-388b-4325-873c-44d0afce9e12"
      },
      "execution_count": 6,
      "outputs": [
        {
          "output_type": "execute_result",
          "data": {
            "text/plain": [
              "torch.Tensor"
            ]
          },
          "metadata": {},
          "execution_count": 6
        }
      ]
    },
    {
      "cell_type": "markdown",
      "source": [
        "#CREAMOS UNA RED NEURONAL CON PYTORCH"
      ],
      "metadata": {
        "id": "HMEMijlu9nA0"
      }
    },
    {
      "cell_type": "markdown",
      "source": [
        "## 1 - IMPORTAMOS LIBRERIAS"
      ],
      "metadata": {
        "id": "SMwdRKNj-Yb4"
      }
    },
    {
      "cell_type": "code",
      "source": [
        "import torch\n",
        "import torch.nn as nn\n",
        "import torch.optim as optim"
      ],
      "metadata": {
        "id": "O6w5qnsO9qjr"
      },
      "execution_count": 8,
      "outputs": []
    },
    {
      "cell_type": "markdown",
      "source": [
        "## 2 - CREAMOS UNA CLASE PARA CREAR EL MODELO DE RED NEURONAL"
      ],
      "metadata": {
        "id": "Qen9Z2tB-bBz"
      }
    },
    {
      "cell_type": "code",
      "source": [
        "class SimpleNN(nn.Module):\n",
        "  def __init__(self):\n",
        "    super(SimpleNN,self).__init__()\n",
        "    self.fc = nn.Linear(2,1)\n",
        "\n",
        "  def forward(self,x):\n",
        "    return self.fc(x)"
      ],
      "metadata": {
        "id": "lZjfMjaQ9yY6"
      },
      "execution_count": 9,
      "outputs": []
    },
    {
      "cell_type": "markdown",
      "source": [
        "## 3 - CREAMOS UN OBJETO DE NUESTRO MODELO"
      ],
      "metadata": {
        "id": "rlknUW1S-gID"
      }
    },
    {
      "cell_type": "code",
      "source": [
        "model = SimpleNN()"
      ],
      "metadata": {
        "id": "iL6pzYCx-UDD"
      },
      "execution_count": 10,
      "outputs": []
    },
    {
      "cell_type": "markdown",
      "source": [
        "## 4 - DEFINIMOS FUNCIÓN DE PERDIDA Y OPTIMIZADOR"
      ],
      "metadata": {
        "id": "OgDzRhn--kTD"
      }
    },
    {
      "cell_type": "code",
      "source": [
        "criterion = nn.MSELoss() # ERROR CUADRATICO MEDIO\n",
        "optimizer = optim.SGD(model.parameters(),lr=0.01)"
      ],
      "metadata": {
        "id": "pPKFgebd-o2D"
      },
      "execution_count": 11,
      "outputs": []
    },
    {
      "cell_type": "markdown",
      "source": [
        "# PREPARAMOS DATA DE PRUEBA"
      ],
      "metadata": {
        "id": "kLFui5cc-_5U"
      }
    },
    {
      "cell_type": "code",
      "source": [
        "inputs = torch.tensor([[1.0,2.0],[2.0,3.0]],dtype=torch.float32)\n",
        "labels = torch.tensor([[1.0],[2.0]],dtype=torch.float32)"
      ],
      "metadata": {
        "id": "Qkh5vB-m-jSs"
      },
      "execution_count": 13,
      "outputs": []
    },
    {
      "cell_type": "markdown",
      "source": [
        "# ENTRENAMOS EL MODELO"
      ],
      "metadata": {
        "id": "N_JSMFgA_mWb"
      }
    },
    {
      "cell_type": "code",
      "source": [
        "for epoch in range(10):\n",
        "  outputs = model(inputs)\n",
        "  loss = criterion(outputs,labels)\n",
        "\n",
        "  # backprogration y optimización\n",
        "  optimizer.zero_grad()\n",
        "  loss.backward()\n",
        "  optimizer.step()\n",
        "  print(f'epoca {epoch + 1}, loss : {loss.item():.4f}')\n",
        "\n",
        "  if(epoch + 1) % 10 == 0:\n",
        "    print(f'epoca {epoch + 1}, loss : {loss.item():.4f}')"
      ],
      "metadata": {
        "colab": {
          "base_uri": "https://localhost:8080/"
        },
        "id": "YHqvf-gB_oMb",
        "outputId": "538d904b-ca60-498c-970a-ef45aea67f1c"
      },
      "execution_count": 15,
      "outputs": [
        {
          "output_type": "stream",
          "name": "stdout",
          "text": [
            "epoca 1, loss : 0.3101\n",
            "epoca 2, loss : 0.2587\n",
            "epoca 3, loss : 0.2254\n",
            "epoca 4, loss : 0.2039\n",
            "epoca 5, loss : 0.1899\n",
            "epoca 6, loss : 0.1808\n",
            "epoca 7, loss : 0.1747\n",
            "epoca 8, loss : 0.1706\n",
            "epoca 9, loss : 0.1678\n",
            "epoca 10, loss : 0.1658\n",
            "epoca 10, loss : 0.1658\n"
          ]
        }
      ]
    },
    {
      "cell_type": "markdown",
      "source": [
        "# PREDICCIONES DEL MODELO"
      ],
      "metadata": {
        "id": "2y10POOVAgTU"
      }
    },
    {
      "cell_type": "code",
      "source": [
        "import numpy as np\n",
        "print(f'predicciones : {np.round(model(inputs).detach().numpy())}')"
      ],
      "metadata": {
        "colab": {
          "base_uri": "https://localhost:8080/"
        },
        "id": "N9S82lCZAigD",
        "outputId": "b68b4682-75e6-49f1-9825-e507e79e8072"
      },
      "execution_count": 19,
      "outputs": [
        {
          "output_type": "stream",
          "name": "stdout",
          "text": [
            "predicciones : [[1.]\n",
            " [2.]]\n"
          ]
        }
      ]
    }
  ]
}