{
  "nbformat": 4,
  "nbformat_minor": 0,
  "metadata": {
    "colab": {
      "provenance": []
    },
    "kernelspec": {
      "name": "python3",
      "display_name": "Python 3"
    },
    "language_info": {
      "name": "python"
    }
  },
  "cells": [
    {
      "cell_type": "markdown",
      "source": [
        "# DATASET AGUA POTABLE : [KAGGLE](https://www.kaggle.com/datasets/adityakadiwal/water-potability/data)"
      ],
      "metadata": {
        "id": "RJnqklMLEELd"
      }
    },
    {
      "cell_type": "code",
      "execution_count": 20,
      "metadata": {
        "id": "hTUE3CZuDD5Q"
      },
      "outputs": [],
      "source": [
        "import pandas as pd\n",
        "import numpy as np\n",
        "import matplotlib.pyplot as plt\n",
        "import seaborn as sns"
      ]
    },
    {
      "cell_type": "markdown",
      "source": [
        "# CARGA DEL DATASET"
      ],
      "metadata": {
        "id": "6tj_E2czECeE"
      }
    },
    {
      "cell_type": "code",
      "source": [
        "df = pd.read_csv('/content/water_potability.csv')\n",
        "df.head(5)"
      ],
      "metadata": {
        "colab": {
          "base_uri": "https://localhost:8080/",
          "height": 206
        },
        "id": "zajo5TkGDk7t",
        "outputId": "7974ec7d-100a-4c27-dcfe-62a5b5258c8d"
      },
      "execution_count": 21,
      "outputs": [
        {
          "output_type": "execute_result",
          "data": {
            "text/plain": [
              "         ph    Hardness        Solids  Chloramines     Sulfate  Conductivity  \\\n",
              "0       NaN  204.890455  20791.318981     7.300212  368.516441    564.308654   \n",
              "1  3.716080  129.422921  18630.057858     6.635246         NaN    592.885359   \n",
              "2  8.099124  224.236259  19909.541732     9.275884         NaN    418.606213   \n",
              "3  8.316766  214.373394  22018.417441     8.059332  356.886136    363.266516   \n",
              "4  9.092223  181.101509  17978.986339     6.546600  310.135738    398.410813   \n",
              "\n",
              "   Organic_carbon  Trihalomethanes  Turbidity  Potability  \n",
              "0       10.379783        86.990970   2.963135           0  \n",
              "1       15.180013        56.329076   4.500656           0  \n",
              "2       16.868637        66.420093   3.055934           0  \n",
              "3       18.436524       100.341674   4.628771           0  \n",
              "4       11.558279        31.997993   4.075075           0  "
            ],
            "text/html": [
              "\n",
              "  <div id=\"df-09c58cad-8fae-43e4-b9cd-6cfd64dabc15\" class=\"colab-df-container\">\n",
              "    <div>\n",
              "<style scoped>\n",
              "    .dataframe tbody tr th:only-of-type {\n",
              "        vertical-align: middle;\n",
              "    }\n",
              "\n",
              "    .dataframe tbody tr th {\n",
              "        vertical-align: top;\n",
              "    }\n",
              "\n",
              "    .dataframe thead th {\n",
              "        text-align: right;\n",
              "    }\n",
              "</style>\n",
              "<table border=\"1\" class=\"dataframe\">\n",
              "  <thead>\n",
              "    <tr style=\"text-align: right;\">\n",
              "      <th></th>\n",
              "      <th>ph</th>\n",
              "      <th>Hardness</th>\n",
              "      <th>Solids</th>\n",
              "      <th>Chloramines</th>\n",
              "      <th>Sulfate</th>\n",
              "      <th>Conductivity</th>\n",
              "      <th>Organic_carbon</th>\n",
              "      <th>Trihalomethanes</th>\n",
              "      <th>Turbidity</th>\n",
              "      <th>Potability</th>\n",
              "    </tr>\n",
              "  </thead>\n",
              "  <tbody>\n",
              "    <tr>\n",
              "      <th>0</th>\n",
              "      <td>NaN</td>\n",
              "      <td>204.890455</td>\n",
              "      <td>20791.318981</td>\n",
              "      <td>7.300212</td>\n",
              "      <td>368.516441</td>\n",
              "      <td>564.308654</td>\n",
              "      <td>10.379783</td>\n",
              "      <td>86.990970</td>\n",
              "      <td>2.963135</td>\n",
              "      <td>0</td>\n",
              "    </tr>\n",
              "    <tr>\n",
              "      <th>1</th>\n",
              "      <td>3.716080</td>\n",
              "      <td>129.422921</td>\n",
              "      <td>18630.057858</td>\n",
              "      <td>6.635246</td>\n",
              "      <td>NaN</td>\n",
              "      <td>592.885359</td>\n",
              "      <td>15.180013</td>\n",
              "      <td>56.329076</td>\n",
              "      <td>4.500656</td>\n",
              "      <td>0</td>\n",
              "    </tr>\n",
              "    <tr>\n",
              "      <th>2</th>\n",
              "      <td>8.099124</td>\n",
              "      <td>224.236259</td>\n",
              "      <td>19909.541732</td>\n",
              "      <td>9.275884</td>\n",
              "      <td>NaN</td>\n",
              "      <td>418.606213</td>\n",
              "      <td>16.868637</td>\n",
              "      <td>66.420093</td>\n",
              "      <td>3.055934</td>\n",
              "      <td>0</td>\n",
              "    </tr>\n",
              "    <tr>\n",
              "      <th>3</th>\n",
              "      <td>8.316766</td>\n",
              "      <td>214.373394</td>\n",
              "      <td>22018.417441</td>\n",
              "      <td>8.059332</td>\n",
              "      <td>356.886136</td>\n",
              "      <td>363.266516</td>\n",
              "      <td>18.436524</td>\n",
              "      <td>100.341674</td>\n",
              "      <td>4.628771</td>\n",
              "      <td>0</td>\n",
              "    </tr>\n",
              "    <tr>\n",
              "      <th>4</th>\n",
              "      <td>9.092223</td>\n",
              "      <td>181.101509</td>\n",
              "      <td>17978.986339</td>\n",
              "      <td>6.546600</td>\n",
              "      <td>310.135738</td>\n",
              "      <td>398.410813</td>\n",
              "      <td>11.558279</td>\n",
              "      <td>31.997993</td>\n",
              "      <td>4.075075</td>\n",
              "      <td>0</td>\n",
              "    </tr>\n",
              "  </tbody>\n",
              "</table>\n",
              "</div>\n",
              "    <div class=\"colab-df-buttons\">\n",
              "\n",
              "  <div class=\"colab-df-container\">\n",
              "    <button class=\"colab-df-convert\" onclick=\"convertToInteractive('df-09c58cad-8fae-43e4-b9cd-6cfd64dabc15')\"\n",
              "            title=\"Convert this dataframe to an interactive table.\"\n",
              "            style=\"display:none;\">\n",
              "\n",
              "  <svg xmlns=\"http://www.w3.org/2000/svg\" height=\"24px\" viewBox=\"0 -960 960 960\">\n",
              "    <path d=\"M120-120v-720h720v720H120Zm60-500h600v-160H180v160Zm220 220h160v-160H400v160Zm0 220h160v-160H400v160ZM180-400h160v-160H180v160Zm440 0h160v-160H620v160ZM180-180h160v-160H180v160Zm440 0h160v-160H620v160Z\"/>\n",
              "  </svg>\n",
              "    </button>\n",
              "\n",
              "  <style>\n",
              "    .colab-df-container {\n",
              "      display:flex;\n",
              "      gap: 12px;\n",
              "    }\n",
              "\n",
              "    .colab-df-convert {\n",
              "      background-color: #E8F0FE;\n",
              "      border: none;\n",
              "      border-radius: 50%;\n",
              "      cursor: pointer;\n",
              "      display: none;\n",
              "      fill: #1967D2;\n",
              "      height: 32px;\n",
              "      padding: 0 0 0 0;\n",
              "      width: 32px;\n",
              "    }\n",
              "\n",
              "    .colab-df-convert:hover {\n",
              "      background-color: #E2EBFA;\n",
              "      box-shadow: 0px 1px 2px rgba(60, 64, 67, 0.3), 0px 1px 3px 1px rgba(60, 64, 67, 0.15);\n",
              "      fill: #174EA6;\n",
              "    }\n",
              "\n",
              "    .colab-df-buttons div {\n",
              "      margin-bottom: 4px;\n",
              "    }\n",
              "\n",
              "    [theme=dark] .colab-df-convert {\n",
              "      background-color: #3B4455;\n",
              "      fill: #D2E3FC;\n",
              "    }\n",
              "\n",
              "    [theme=dark] .colab-df-convert:hover {\n",
              "      background-color: #434B5C;\n",
              "      box-shadow: 0px 1px 3px 1px rgba(0, 0, 0, 0.15);\n",
              "      filter: drop-shadow(0px 1px 2px rgba(0, 0, 0, 0.3));\n",
              "      fill: #FFFFFF;\n",
              "    }\n",
              "  </style>\n",
              "\n",
              "    <script>\n",
              "      const buttonEl =\n",
              "        document.querySelector('#df-09c58cad-8fae-43e4-b9cd-6cfd64dabc15 button.colab-df-convert');\n",
              "      buttonEl.style.display =\n",
              "        google.colab.kernel.accessAllowed ? 'block' : 'none';\n",
              "\n",
              "      async function convertToInteractive(key) {\n",
              "        const element = document.querySelector('#df-09c58cad-8fae-43e4-b9cd-6cfd64dabc15');\n",
              "        const dataTable =\n",
              "          await google.colab.kernel.invokeFunction('convertToInteractive',\n",
              "                                                    [key], {});\n",
              "        if (!dataTable) return;\n",
              "\n",
              "        const docLinkHtml = 'Like what you see? Visit the ' +\n",
              "          '<a target=\"_blank\" href=https://colab.research.google.com/notebooks/data_table.ipynb>data table notebook</a>'\n",
              "          + ' to learn more about interactive tables.';\n",
              "        element.innerHTML = '';\n",
              "        dataTable['output_type'] = 'display_data';\n",
              "        await google.colab.output.renderOutput(dataTable, element);\n",
              "        const docLink = document.createElement('div');\n",
              "        docLink.innerHTML = docLinkHtml;\n",
              "        element.appendChild(docLink);\n",
              "      }\n",
              "    </script>\n",
              "  </div>\n",
              "\n",
              "\n",
              "<div id=\"df-5eba4198-b98d-4f31-90eb-522883483978\">\n",
              "  <button class=\"colab-df-quickchart\" onclick=\"quickchart('df-5eba4198-b98d-4f31-90eb-522883483978')\"\n",
              "            title=\"Suggest charts\"\n",
              "            style=\"display:none;\">\n",
              "\n",
              "<svg xmlns=\"http://www.w3.org/2000/svg\" height=\"24px\"viewBox=\"0 0 24 24\"\n",
              "     width=\"24px\">\n",
              "    <g>\n",
              "        <path d=\"M19 3H5c-1.1 0-2 .9-2 2v14c0 1.1.9 2 2 2h14c1.1 0 2-.9 2-2V5c0-1.1-.9-2-2-2zM9 17H7v-7h2v7zm4 0h-2V7h2v10zm4 0h-2v-4h2v4z\"/>\n",
              "    </g>\n",
              "</svg>\n",
              "  </button>\n",
              "\n",
              "<style>\n",
              "  .colab-df-quickchart {\n",
              "      --bg-color: #E8F0FE;\n",
              "      --fill-color: #1967D2;\n",
              "      --hover-bg-color: #E2EBFA;\n",
              "      --hover-fill-color: #174EA6;\n",
              "      --disabled-fill-color: #AAA;\n",
              "      --disabled-bg-color: #DDD;\n",
              "  }\n",
              "\n",
              "  [theme=dark] .colab-df-quickchart {\n",
              "      --bg-color: #3B4455;\n",
              "      --fill-color: #D2E3FC;\n",
              "      --hover-bg-color: #434B5C;\n",
              "      --hover-fill-color: #FFFFFF;\n",
              "      --disabled-bg-color: #3B4455;\n",
              "      --disabled-fill-color: #666;\n",
              "  }\n",
              "\n",
              "  .colab-df-quickchart {\n",
              "    background-color: var(--bg-color);\n",
              "    border: none;\n",
              "    border-radius: 50%;\n",
              "    cursor: pointer;\n",
              "    display: none;\n",
              "    fill: var(--fill-color);\n",
              "    height: 32px;\n",
              "    padding: 0;\n",
              "    width: 32px;\n",
              "  }\n",
              "\n",
              "  .colab-df-quickchart:hover {\n",
              "    background-color: var(--hover-bg-color);\n",
              "    box-shadow: 0 1px 2px rgba(60, 64, 67, 0.3), 0 1px 3px 1px rgba(60, 64, 67, 0.15);\n",
              "    fill: var(--button-hover-fill-color);\n",
              "  }\n",
              "\n",
              "  .colab-df-quickchart-complete:disabled,\n",
              "  .colab-df-quickchart-complete:disabled:hover {\n",
              "    background-color: var(--disabled-bg-color);\n",
              "    fill: var(--disabled-fill-color);\n",
              "    box-shadow: none;\n",
              "  }\n",
              "\n",
              "  .colab-df-spinner {\n",
              "    border: 2px solid var(--fill-color);\n",
              "    border-color: transparent;\n",
              "    border-bottom-color: var(--fill-color);\n",
              "    animation:\n",
              "      spin 1s steps(1) infinite;\n",
              "  }\n",
              "\n",
              "  @keyframes spin {\n",
              "    0% {\n",
              "      border-color: transparent;\n",
              "      border-bottom-color: var(--fill-color);\n",
              "      border-left-color: var(--fill-color);\n",
              "    }\n",
              "    20% {\n",
              "      border-color: transparent;\n",
              "      border-left-color: var(--fill-color);\n",
              "      border-top-color: var(--fill-color);\n",
              "    }\n",
              "    30% {\n",
              "      border-color: transparent;\n",
              "      border-left-color: var(--fill-color);\n",
              "      border-top-color: var(--fill-color);\n",
              "      border-right-color: var(--fill-color);\n",
              "    }\n",
              "    40% {\n",
              "      border-color: transparent;\n",
              "      border-right-color: var(--fill-color);\n",
              "      border-top-color: var(--fill-color);\n",
              "    }\n",
              "    60% {\n",
              "      border-color: transparent;\n",
              "      border-right-color: var(--fill-color);\n",
              "    }\n",
              "    80% {\n",
              "      border-color: transparent;\n",
              "      border-right-color: var(--fill-color);\n",
              "      border-bottom-color: var(--fill-color);\n",
              "    }\n",
              "    90% {\n",
              "      border-color: transparent;\n",
              "      border-bottom-color: var(--fill-color);\n",
              "    }\n",
              "  }\n",
              "</style>\n",
              "\n",
              "  <script>\n",
              "    async function quickchart(key) {\n",
              "      const quickchartButtonEl =\n",
              "        document.querySelector('#' + key + ' button');\n",
              "      quickchartButtonEl.disabled = true;  // To prevent multiple clicks.\n",
              "      quickchartButtonEl.classList.add('colab-df-spinner');\n",
              "      try {\n",
              "        const charts = await google.colab.kernel.invokeFunction(\n",
              "            'suggestCharts', [key], {});\n",
              "      } catch (error) {\n",
              "        console.error('Error during call to suggestCharts:', error);\n",
              "      }\n",
              "      quickchartButtonEl.classList.remove('colab-df-spinner');\n",
              "      quickchartButtonEl.classList.add('colab-df-quickchart-complete');\n",
              "    }\n",
              "    (() => {\n",
              "      let quickchartButtonEl =\n",
              "        document.querySelector('#df-5eba4198-b98d-4f31-90eb-522883483978 button');\n",
              "      quickchartButtonEl.style.display =\n",
              "        google.colab.kernel.accessAllowed ? 'block' : 'none';\n",
              "    })();\n",
              "  </script>\n",
              "</div>\n",
              "\n",
              "    </div>\n",
              "  </div>\n"
            ],
            "application/vnd.google.colaboratory.intrinsic+json": {
              "type": "dataframe",
              "variable_name": "df",
              "summary": "{\n  \"name\": \"df\",\n  \"rows\": 3276,\n  \"fields\": [\n    {\n      \"column\": \"ph\",\n      \"properties\": {\n        \"dtype\": \"number\",\n        \"std\": 1.5943195187088117,\n        \"min\": 0.0,\n        \"max\": 13.999999999999998,\n        \"num_unique_values\": 2785,\n        \"samples\": [\n          6.569053876389385,\n          9.271355446767778,\n          8.92790592593881\n        ],\n        \"semantic_type\": \"\",\n        \"description\": \"\"\n      }\n    },\n    {\n      \"column\": \"Hardness\",\n      \"properties\": {\n        \"dtype\": \"number\",\n        \"std\": 32.879761476294185,\n        \"min\": 47.432,\n        \"max\": 323.124,\n        \"num_unique_values\": 3276,\n        \"samples\": [\n          183.5211070261417,\n          188.9135411469536,\n          224.05887682392927\n        ],\n        \"semantic_type\": \"\",\n        \"description\": \"\"\n      }\n    },\n    {\n      \"column\": \"Solids\",\n      \"properties\": {\n        \"dtype\": \"number\",\n        \"std\": 8768.570827785932,\n        \"min\": 320.942611274359,\n        \"max\": 61227.19600771213,\n        \"num_unique_values\": 3276,\n        \"samples\": [\n          20461.252710219946,\n          32873.820021715685,\n          23264.10996772913\n        ],\n        \"semantic_type\": \"\",\n        \"description\": \"\"\n      }\n    },\n    {\n      \"column\": \"Chloramines\",\n      \"properties\": {\n        \"dtype\": \"number\",\n        \"std\": 1.58308488903971,\n        \"min\": 0.3520000000000003,\n        \"max\": 13.127000000000002,\n        \"num_unique_values\": 3276,\n        \"samples\": [\n          7.333212177578906,\n          6.791509363412849,\n          5.92236704115349\n        ],\n        \"semantic_type\": \"\",\n        \"description\": \"\"\n      }\n    },\n    {\n      \"column\": \"Sulfate\",\n      \"properties\": {\n        \"dtype\": \"number\",\n        \"std\": 41.416840461672685,\n        \"min\": 129.00000000000003,\n        \"max\": 481.0306423059972,\n        \"num_unique_values\": 2495,\n        \"samples\": [\n          324.64407957923544,\n          370.121384654358,\n          329.12773842254506\n        ],\n        \"semantic_type\": \"\",\n        \"description\": \"\"\n      }\n    },\n    {\n      \"column\": \"Conductivity\",\n      \"properties\": {\n        \"dtype\": \"number\",\n        \"std\": 80.82406405111182,\n        \"min\": 181.483753985146,\n        \"max\": 753.3426195583046,\n        \"num_unique_values\": 3276,\n        \"samples\": [\n          356.3690224100897,\n          336.56150104700754,\n          387.971335796834\n        ],\n        \"semantic_type\": \"\",\n        \"description\": \"\"\n      }\n    },\n    {\n      \"column\": \"Organic_carbon\",\n      \"properties\": {\n        \"dtype\": \"number\",\n        \"std\": 3.308161999126868,\n        \"min\": 2.1999999999999886,\n        \"max\": 28.30000000000001,\n        \"num_unique_values\": 3276,\n        \"samples\": [\n          20.179028868493845,\n          14.706810313722087,\n          13.40673745495127\n        ],\n        \"semantic_type\": \"\",\n        \"description\": \"\"\n      }\n    },\n    {\n      \"column\": \"Trihalomethanes\",\n      \"properties\": {\n        \"dtype\": \"number\",\n        \"std\": 16.17500842221865,\n        \"min\": 0.7379999999999995,\n        \"max\": 124.0,\n        \"num_unique_values\": 3114,\n        \"samples\": [\n          66.163439242252,\n          42.844510851301166,\n          47.06639219544294\n        ],\n        \"semantic_type\": \"\",\n        \"description\": \"\"\n      }\n    },\n    {\n      \"column\": \"Turbidity\",\n      \"properties\": {\n        \"dtype\": \"number\",\n        \"std\": 0.7803824084854116,\n        \"min\": 1.45,\n        \"max\": 6.739,\n        \"num_unique_values\": 3276,\n        \"samples\": [\n          4.886633785371213,\n          4.562197671215202,\n          2.487968647002356\n        ],\n        \"semantic_type\": \"\",\n        \"description\": \"\"\n      }\n    },\n    {\n      \"column\": \"Potability\",\n      \"properties\": {\n        \"dtype\": \"number\",\n        \"std\": 0,\n        \"min\": 0,\n        \"max\": 1,\n        \"num_unique_values\": 2,\n        \"samples\": [\n          1,\n          0\n        ],\n        \"semantic_type\": \"\",\n        \"description\": \"\"\n      }\n    }\n  ]\n}"
            }
          },
          "metadata": {},
          "execution_count": 21
        }
      ]
    },
    {
      "cell_type": "markdown",
      "source": [
        "# EDA - PREPARACION DE LOS DATOS"
      ],
      "metadata": {
        "id": "Z3f8viKMD_-E"
      }
    },
    {
      "cell_type": "code",
      "source": [
        "df.isna().sum()"
      ],
      "metadata": {
        "colab": {
          "base_uri": "https://localhost:8080/",
          "height": 398
        },
        "id": "QYk0gWjYDr9b",
        "outputId": "3d29390a-b3a0-4487-f5c4-bffa43fb55bb"
      },
      "execution_count": 22,
      "outputs": [
        {
          "output_type": "execute_result",
          "data": {
            "text/plain": [
              "ph                 491\n",
              "Hardness             0\n",
              "Solids               0\n",
              "Chloramines          0\n",
              "Sulfate            781\n",
              "Conductivity         0\n",
              "Organic_carbon       0\n",
              "Trihalomethanes    162\n",
              "Turbidity            0\n",
              "Potability           0\n",
              "dtype: int64"
            ],
            "text/html": [
              "<div>\n",
              "<style scoped>\n",
              "    .dataframe tbody tr th:only-of-type {\n",
              "        vertical-align: middle;\n",
              "    }\n",
              "\n",
              "    .dataframe tbody tr th {\n",
              "        vertical-align: top;\n",
              "    }\n",
              "\n",
              "    .dataframe thead th {\n",
              "        text-align: right;\n",
              "    }\n",
              "</style>\n",
              "<table border=\"1\" class=\"dataframe\">\n",
              "  <thead>\n",
              "    <tr style=\"text-align: right;\">\n",
              "      <th></th>\n",
              "      <th>0</th>\n",
              "    </tr>\n",
              "  </thead>\n",
              "  <tbody>\n",
              "    <tr>\n",
              "      <th>ph</th>\n",
              "      <td>491</td>\n",
              "    </tr>\n",
              "    <tr>\n",
              "      <th>Hardness</th>\n",
              "      <td>0</td>\n",
              "    </tr>\n",
              "    <tr>\n",
              "      <th>Solids</th>\n",
              "      <td>0</td>\n",
              "    </tr>\n",
              "    <tr>\n",
              "      <th>Chloramines</th>\n",
              "      <td>0</td>\n",
              "    </tr>\n",
              "    <tr>\n",
              "      <th>Sulfate</th>\n",
              "      <td>781</td>\n",
              "    </tr>\n",
              "    <tr>\n",
              "      <th>Conductivity</th>\n",
              "      <td>0</td>\n",
              "    </tr>\n",
              "    <tr>\n",
              "      <th>Organic_carbon</th>\n",
              "      <td>0</td>\n",
              "    </tr>\n",
              "    <tr>\n",
              "      <th>Trihalomethanes</th>\n",
              "      <td>162</td>\n",
              "    </tr>\n",
              "    <tr>\n",
              "      <th>Turbidity</th>\n",
              "      <td>0</td>\n",
              "    </tr>\n",
              "    <tr>\n",
              "      <th>Potability</th>\n",
              "      <td>0</td>\n",
              "    </tr>\n",
              "  </tbody>\n",
              "</table>\n",
              "</div><br><label><b>dtype:</b> int64</label>"
            ]
          },
          "metadata": {},
          "execution_count": 22
        }
      ]
    },
    {
      "cell_type": "code",
      "source": [
        "X = df.iloc[:,0:9].values\n",
        "y = df.iloc[:,9].values\n",
        "print(X)\n",
        "print(y)"
      ],
      "metadata": {
        "colab": {
          "base_uri": "https://localhost:8080/"
        },
        "id": "BJb13y9XDupz",
        "outputId": "7f52bec7-eead-4eed-9a36-c8e062273f42"
      },
      "execution_count": 23,
      "outputs": [
        {
          "output_type": "stream",
          "name": "stdout",
          "text": [
            "[[           nan 2.04890455e+02 2.07913190e+04 ... 1.03797831e+01\n",
            "  8.69909705e+01 2.96313538e+00]\n",
            " [3.71608008e+00 1.29422921e+02 1.86300579e+04 ... 1.51800131e+01\n",
            "  5.63290763e+01 4.50065627e+00]\n",
            " [8.09912419e+00 2.24236259e+02 1.99095417e+04 ... 1.68686369e+01\n",
            "  6.64200925e+01 3.05593375e+00]\n",
            " ...\n",
            " [9.41951032e+00 1.75762646e+02 3.31555782e+04 ... 1.10390697e+01\n",
            "  6.98454003e+01 3.29887550e+00]\n",
            " [5.12676292e+00 2.30603758e+02 1.19838694e+04 ... 1.11689462e+01\n",
            "  7.74882131e+01 4.70865847e+00]\n",
            " [7.87467136e+00 1.95102299e+02 1.74041771e+04 ... 1.61403676e+01\n",
            "  7.86984463e+01 2.30914906e+00]]\n",
            "[0 0 0 ... 1 1 1]\n"
          ]
        }
      ]
    },
    {
      "cell_type": "code",
      "source": [
        "from sklearn.impute import SimpleImputer\n",
        "imputer = SimpleImputer(missing_values=np.nan,strategy='mean')\n",
        "imputer = imputer.fit(X[:,0:9])\n",
        "X[:,0:9] = imputer.transform(X[:,0:9])\n",
        "X"
      ],
      "metadata": {
        "colab": {
          "base_uri": "https://localhost:8080/"
        },
        "id": "QTCQMNNVDycL",
        "outputId": "8fd60a21-f656-4934-ee03-b88cf94a8256"
      },
      "execution_count": 24,
      "outputs": [
        {
          "output_type": "execute_result",
          "data": {
            "text/plain": [
              "array([[7.08079450e+00, 2.04890455e+02, 2.07913190e+04, ...,\n",
              "        1.03797831e+01, 8.69909705e+01, 2.96313538e+00],\n",
              "       [3.71608008e+00, 1.29422921e+02, 1.86300579e+04, ...,\n",
              "        1.51800131e+01, 5.63290763e+01, 4.50065627e+00],\n",
              "       [8.09912419e+00, 2.24236259e+02, 1.99095417e+04, ...,\n",
              "        1.68686369e+01, 6.64200925e+01, 3.05593375e+00],\n",
              "       ...,\n",
              "       [9.41951032e+00, 1.75762646e+02, 3.31555782e+04, ...,\n",
              "        1.10390697e+01, 6.98454003e+01, 3.29887550e+00],\n",
              "       [5.12676292e+00, 2.30603758e+02, 1.19838694e+04, ...,\n",
              "        1.11689462e+01, 7.74882131e+01, 4.70865847e+00],\n",
              "       [7.87467136e+00, 1.95102299e+02, 1.74041771e+04, ...,\n",
              "        1.61403676e+01, 7.86984463e+01, 2.30914906e+00]])"
            ]
          },
          "metadata": {},
          "execution_count": 24
        }
      ]
    },
    {
      "cell_type": "code",
      "source": [
        "from sklearn.preprocessing import StandardScaler\n",
        "scaler = StandardScaler()\n",
        "X = scaler.fit_transform(X)\n",
        "X"
      ],
      "metadata": {
        "colab": {
          "base_uri": "https://localhost:8080/"
        },
        "id": "EXSzS8T4D41D",
        "outputId": "04debace-9cc2-481f-949f-a9695c0a3794"
      },
      "execution_count": 25,
      "outputs": [
        {
          "output_type": "execute_result",
          "data": {
            "text/plain": [
              "array([[-6.04313345e-16,  2.59194711e-01, -1.39470871e-01, ...,\n",
              "        -1.18065057e+00,  1.30614943e+00, -1.28629758e+00],\n",
              "       [-2.28933938e+00, -2.03641367e+00, -3.85986650e-01, ...,\n",
              "         2.70597240e-01, -6.38479983e-01,  6.84217891e-01],\n",
              "       [ 6.92867789e-01,  8.47664833e-01, -2.40047337e-01, ...,\n",
              "         7.81116857e-01,  1.50940884e-03, -1.16736546e+00],\n",
              "       ...,\n",
              "       [ 1.59125368e+00, -6.26829230e-01,  1.27080989e+00, ...,\n",
              "        -9.81329234e-01,  2.18748247e-01, -8.56006782e-01],\n",
              "       [-1.32951593e+00,  1.04135450e+00, -1.14405809e+00, ...,\n",
              "        -9.42063817e-01,  7.03468419e-01,  9.50797383e-01],\n",
              "       [ 5.40150905e-01, -3.85462310e-02, -5.25811937e-01, ...,\n",
              "         5.60940070e-01,  7.80223466e-01, -2.12445866e+00]])"
            ]
          },
          "metadata": {},
          "execution_count": 25
        }
      ]
    },
    {
      "cell_type": "code",
      "source": [
        "from sklearn.model_selection import train_test_split\n",
        "\n",
        "X_train,X_test,y_train,y_test = train_test_split(X,y,test_size=0.2,random_state=0)"
      ],
      "metadata": {
        "id": "Kb6cyQfxD72T"
      },
      "execution_count": 26,
      "outputs": []
    },
    {
      "cell_type": "code",
      "source": [
        "X_train"
      ],
      "metadata": {
        "colab": {
          "base_uri": "https://localhost:8080/"
        },
        "id": "WFq_paVvWafE",
        "outputId": "ecdc87c7-8da9-43a4-aae8-b194bed51a23"
      },
      "execution_count": 40,
      "outputs": [
        {
          "output_type": "execute_result",
          "data": {
            "text/plain": [
              "array([[-1.06553244e+00,  9.84537823e-01,  1.52038128e+00, ...,\n",
              "         1.95307979e-01, -1.24406641e+00, -1.49773516e+00],\n",
              "       [-6.04313345e-16,  4.36911633e-01, -9.51574693e-01, ...,\n",
              "        -1.18854871e+00, -1.33770861e+00, -7.71400235e-01],\n",
              "       [-6.04313345e-16,  1.14037393e+00, -1.17598897e+00, ...,\n",
              "         1.22561748e+00, -1.50428834e+00, -5.85420497e-01],\n",
              "       ...,\n",
              "       [-2.94468081e-01, -1.37725627e-01, -7.79927065e-01, ...,\n",
              "         3.48680803e-01, -6.25585662e-01, -1.75585109e-01],\n",
              "       [ 4.04916868e-01,  1.12339321e+00,  1.89228254e-01, ...,\n",
              "         1.26205271e+00, -3.42648576e-01,  1.37604146e+00],\n",
              "       [-6.04313345e-16, -1.07844741e+00, -9.20569590e-01, ...,\n",
              "         2.79267418e-01,  5.82132720e-01,  2.23983551e-01]])"
            ]
          },
          "metadata": {},
          "execution_count": 40
        }
      ]
    },
    {
      "cell_type": "markdown",
      "source": [
        "# ENTRENAMIENTO DE RED NEURONAL CON PYTORCH"
      ],
      "metadata": {
        "id": "FJ3mL8GNF8gc"
      }
    },
    {
      "cell_type": "code",
      "source": [
        "import torch\n",
        "import torch.nn as nn\n",
        "import torch.optim as optim"
      ],
      "metadata": {
        "id": "k4Z1GZYRGAjE"
      },
      "execution_count": 27,
      "outputs": []
    },
    {
      "cell_type": "markdown",
      "source": [
        "## CREAMOS MODELO"
      ],
      "metadata": {
        "id": "dvCJm3beHWtF"
      }
    },
    {
      "cell_type": "code",
      "source": [
        "class RedNeuronalInicial(nn.Module):\n",
        "  def __init__(self):\n",
        "    super(RedNeuronal,self).__init__()\n",
        "    self.entrada = nn.Linear(9,500)\n",
        "    self.oculta1 = nn.Linear(500,500)\n",
        "    self.oculta2 = nn.Linear(500,500)\n",
        "    self.salida = nn.Linear(500,1)\n",
        "    self.dropout = nn.Dropout(0.4)\n",
        "    self.relu = nn.ReLU()\n",
        "    self.sigmoid = nn.Sigmoid()\n",
        "\n",
        "  def forward(self,x):\n",
        "    x = self.relu(self.entrada(x))\n",
        "    x = self.dropout(x)\n",
        "    x = self.relu(self.oculta1(x))\n",
        "    x = self.dropout(x)\n",
        "    x = self.relu(self.oculta2(x))\n",
        "    x = self.dropout(x)\n",
        "    x = self.sigmoid(self.salida(x))\n",
        "    return x"
      ],
      "metadata": {
        "id": "kbs2ZlhWGGg0"
      },
      "execution_count": 41,
      "outputs": []
    },
    {
      "cell_type": "code",
      "source": [
        "class RedNeuronal(nn.Module):\n",
        "    def __init__(self):\n",
        "        super(RedNeuronal, self).__init__()\n",
        "        self.entrada = nn.Linear(9, 256)  # Capa de entrada (9 características)\n",
        "        self.oculta1 = nn.Linear(256, 128)  # Primera capa oculta\n",
        "        self.oculta2 = nn.Linear(128, 64)  # Segunda capa oculta\n",
        "        self.salida = nn.Linear(64, 1)  # Capa de salida\n",
        "        self.dropout = nn.Dropout(0.3)  # Dropout con probabilidad de 0.5\n",
        "        self.relu = nn.ReLU()  # Función de activación ReLU\n",
        "        self.sigmoid = nn.Sigmoid()  # Activación de salida Sigmoid para clasificación binaria\n",
        "\n",
        "    def forward(self, x):\n",
        "        x = self.relu(self.entrada(x))\n",
        "        x = self.relu(self.oculta1(x))\n",
        "        x = self.dropout(x)  # Aplicar dropout\n",
        "        x = self.relu(self.oculta2(x))\n",
        "        x = self.sigmoid(self.salida(x))  # Activación sigmoid para salida\n",
        "        return x"
      ],
      "metadata": {
        "id": "l-86PB_7W_yj"
      },
      "execution_count": 43,
      "outputs": []
    },
    {
      "cell_type": "code",
      "source": [
        "modelo = RedNeuronal()"
      ],
      "metadata": {
        "id": "3sE7we3PHG9U"
      },
      "execution_count": 44,
      "outputs": []
    },
    {
      "cell_type": "markdown",
      "source": [
        "## CREAMOS FUNCION DE PERDIDA Y OPTIMIZADOR"
      ],
      "metadata": {
        "id": "U17y-QCkHZc7"
      }
    },
    {
      "cell_type": "code",
      "source": [
        "criterion = nn.BCELoss()\n",
        "optimizer = optim.RMSprop(modelo.parameters(),lr=0.001,weight_decay=0.01)"
      ],
      "metadata": {
        "id": "ihXCxnvPHcr9"
      },
      "execution_count": 49,
      "outputs": []
    },
    {
      "cell_type": "markdown",
      "source": [
        "## ENTRENAMOS NUESTRO MODELO"
      ],
      "metadata": {
        "id": "qa69tyB6JapX"
      }
    },
    {
      "cell_type": "markdown",
      "source": [
        "## CONVERTIR X Y Y EN TENSORES"
      ],
      "metadata": {
        "id": "gWBtoooWJdz2"
      }
    },
    {
      "cell_type": "code",
      "source": [
        "X_train_tensor = torch.tensor(X_train,dtype=torch.float32)\n",
        "y_train_tensor = torch.tensor(y_train,dtype=torch.float32)"
      ],
      "metadata": {
        "id": "PD4DitO6Jghe"
      },
      "execution_count": 50,
      "outputs": []
    },
    {
      "cell_type": "markdown",
      "source": [
        "### CREAMOS LOGICA DE ENTRENAMIENTO"
      ],
      "metadata": {
        "id": "Zp-F0JfgJvt7"
      }
    },
    {
      "cell_type": "code",
      "source": [
        "import matplotlib.pyplot as plt\n",
        "# Entrenamiento del modelo\n",
        "epochs = 10\n",
        "batch_size = 50\n",
        "# Listas para almacenar el loss y accuracy\n",
        "losses = []\n",
        "accuracies = []\n",
        "\n",
        "for epoch in range(epochs):\n",
        "    modelo.train()\n",
        "    running_loss = 0.0\n",
        "    correct = 0\n",
        "\n",
        "    for i in range(0, len(X_train_tensor), batch_size):\n",
        "        # Obtener el batch\n",
        "        X_batch = X_train_tensor[i:i+batch_size]\n",
        "        y_batch = y_train_tensor[i:i+batch_size].unsqueeze(1)\n",
        "\n",
        "        # Hacer una predicción\n",
        "        outputs = modelo(X_batch)\n",
        "\n",
        "        # Calcular la pérdida\n",
        "        loss = criterion(outputs, y_batch)\n",
        "        running_loss += loss.item()\n",
        "\n",
        "        # Limpiar los gradientes\n",
        "        optimizer.zero_grad()\n",
        "\n",
        "        # Retropropagación\n",
        "        loss.backward()\n",
        "\n",
        "        # Actualizar los pesos\n",
        "        optimizer.step()\n",
        "\n",
        "    # Calcular la pérdida media y la precisión\n",
        "    epoch_loss = running_loss / (len(X_train_tensor) / batch_size)\n",
        "    losses.append(epoch_loss)\n",
        "\n",
        "    # Evaluar el modelo en el conjunto de entrenamiento\n",
        "    modelo.eval()\n",
        "    with torch.no_grad():\n",
        "        outputs = modelo(X_train_tensor)\n",
        "        predicted = (outputs > 0.5).float()\n",
        "        correct += (predicted.eq(y_train_tensor.unsqueeze(1))).sum().item()\n",
        "\n",
        "    accuracy = correct / len(y_train_tensor)\n",
        "    accuracies.append(accuracy)\n",
        "\n",
        "    print(f\"Epoch [{epoch+1}/{epochs}], Loss: {epoch_loss:.4f}, Accuracy: {accuracy * 100:.2f}%\")"
      ],
      "metadata": {
        "colab": {
          "base_uri": "https://localhost:8080/"
        },
        "id": "_e8NS9VCW0c2",
        "outputId": "ea0846f6-b489-49c8-e305-0b4d6e11ebcb"
      },
      "execution_count": 51,
      "outputs": [
        {
          "output_type": "stream",
          "name": "stdout",
          "text": [
            "Epoch [1/10], Loss: 0.5947, Accuracy: 70.80%\n",
            "Epoch [2/10], Loss: 0.5935, Accuracy: 70.69%\n",
            "Epoch [3/10], Loss: 0.5938, Accuracy: 70.61%\n",
            "Epoch [4/10], Loss: 0.5943, Accuracy: 70.27%\n",
            "Epoch [5/10], Loss: 0.5924, Accuracy: 70.53%\n",
            "Epoch [6/10], Loss: 0.5952, Accuracy: 70.73%\n",
            "Epoch [7/10], Loss: 0.5908, Accuracy: 70.65%\n",
            "Epoch [8/10], Loss: 0.5936, Accuracy: 70.27%\n",
            "Epoch [9/10], Loss: 0.5972, Accuracy: 70.15%\n",
            "Epoch [10/10], Loss: 0.5957, Accuracy: 70.38%\n"
          ]
        }
      ]
    },
    {
      "cell_type": "markdown",
      "source": [
        "### GRAFICAMOS LOSS Y ACCURACY"
      ],
      "metadata": {
        "id": "WEBf17iSVNyO"
      }
    },
    {
      "cell_type": "code",
      "source": [
        "# Graficar loss y accuracy\n",
        "plt.figure(figsize=(12, 5))\n",
        "\n",
        "# Gráfica de Loss\n",
        "plt.subplot(1, 2, 1)\n",
        "plt.plot(losses, label='Loss', color='blue')\n",
        "plt.title('Loss durante el Entrenamiento')\n",
        "plt.xlabel('Épocas')\n",
        "plt.ylabel('Loss')\n",
        "plt.legend()\n",
        "\n",
        "# Gráfica de Accuracy\n",
        "plt.subplot(1, 2, 2)\n",
        "plt.plot(accuracies, label='Accuracy', color='orange')\n",
        "plt.title('Accuracy durante el Entrenamiento')\n",
        "plt.xlabel('Épocas')\n",
        "plt.ylabel('Accuracy')\n",
        "plt.legend()\n",
        "\n",
        "plt.tight_layout()\n",
        "plt.show()"
      ],
      "metadata": {
        "colab": {
          "base_uri": "https://localhost:8080/",
          "height": 507
        },
        "id": "9KI3sksTVQT1",
        "outputId": "d3da3293-6cca-498e-abc5-b7535679339e"
      },
      "execution_count": 52,
      "outputs": [
        {
          "output_type": "display_data",
          "data": {
            "text/plain": [
              "<Figure size 1200x500 with 2 Axes>"
            ],
            "image/png": "[encoded data removed]"
          },
          "metadata": {}
        }
      ]
    },
    {
      "cell_type": "markdown",
      "source": [
        "### EVALUAMOS EL MODELO"
      ],
      "metadata": {
        "id": "DgSfTTtvXr8u"
      }
    },
    {
      "cell_type": "code",
      "source": [
        "#CAMBIAR MODELO A MODO EVALUACIÓN\n",
        "modelo.eval()\n",
        "with torch.no_grad():\n",
        "  X_test_tensor = torch.tensor(X_test,dtype=torch.float32)\n",
        "  y_test_tensor = torch.tensor(y_test,dtype=torch.float32).unsqueeze(1)\n",
        "\n",
        "  #predicciones\n",
        "  test_outputs = modelo(X_test_tensor)\n",
        "\n",
        "  precited_test = (test_outputs > 0.5).float()\n",
        "\n",
        "  #calculamos accuracy\n",
        "  correct_test = (precited_test.eq(y_test_tensor)).sum().item()\n",
        "  accuracy_test = correct_test / len(y_test_tensor)\n",
        "\n",
        "print(f'El score de prueba es {accuracy_test * 100:.2f}%')"
      ],
      "metadata": {
        "colab": {
          "base_uri": "https://localhost:8080/"
        },
        "id": "tx1zhP1cXtv3",
        "outputId": "9d569ec6-3ea2-4f3e-8ec2-dfc8a2aa9762"
      },
      "execution_count": 53,
      "outputs": [
        {
          "output_type": "stream",
          "name": "stdout",
          "text": [
            "El score de prueba es 67.68%\n"
          ]
        }
      ]
    },
    {
      "cell_type": "markdown",
      "source": [
        "### MATRIZ DE CONFUSIÓN"
      ],
      "metadata": {
        "id": "FEmSL6xrYrAH"
      }
    },
    {
      "cell_type": "code",
      "source": [
        "from sklearn.metrics import confusion_matrix,ConfusionMatrixDisplay\n",
        "\n",
        "# Evaluación del modelo en el conjunto de prueba\n",
        "modelo.eval()\n",
        "with torch.no_grad():\n",
        "    X_test_tensor = torch.tensor(X_test, dtype=torch.float32)\n",
        "    y_test_tensor = torch.tensor(y_test, dtype=torch.float32).unsqueeze(1)\n",
        "\n",
        "    test_outputs = modelo(X_test_tensor)\n",
        "    predicted_test = (test_outputs > 0.5).float()\n",
        "    correct_test = (predicted_test.eq(y_test_tensor)).sum().item()\n",
        "    accuracy_test = correct_test / len(y_test_tensor)\n",
        "\n",
        "print(f\"Test Accuracy: {accuracy_test * 100:.2f}%\")\n",
        "\n",
        "# Crear la matriz de confusión\n",
        "y_test_labels = y_test_tensor.numpy()  # Convertir a numpy para sklearn\n",
        "predicted_labels = predicted_test.numpy()  # Convertir a numpy para sklearn\n",
        "\n",
        "cm = confusion_matrix(y_test_labels, predicted_labels)\n",
        "\n",
        "# Visualizar la matriz de confusión\n",
        "plt.figure(figsize=(8, 6))\n",
        "sns.heatmap(cm, annot=True, fmt='d', cmap='Blues',\n",
        "             xticklabels=['Predicted 0', 'Predicted 1'],\n",
        "             yticklabels=['Actual 0', 'Actual 1'])\n",
        "plt.xlabel('Predicted labels')\n",
        "plt.ylabel('True labels')\n",
        "plt.title('Confusion Matrix')\n",
        "plt.show()"
      ],
      "metadata": {
        "colab": {
          "base_uri": "https://localhost:8080/",
          "height": 581
        },
        "id": "q-OslDOBYuvZ",
        "outputId": "c93d1f99-5d2c-4b20-b73a-aa4a0999dbc1"
      },
      "execution_count": 55,
      "outputs": [
        {
          "output_type": "stream",
          "name": "stdout",
          "text": [
            "Test Accuracy: 67.68%\n"
          ]
        },
        {
          "output_type": "display_data",
          "data": {
            "text/plain": [
              "<Figure size 800x600 with 2 Axes>"
            ],
            "image/png": "[encoded data removed]"
          },
          "metadata": {}
        }
      ]
    }
  ]
}