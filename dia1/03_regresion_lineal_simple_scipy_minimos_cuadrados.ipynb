{
  "nbformat": 4,
  "nbformat_minor": 0,
  "metadata": {
    "colab": {
      "provenance": []
    },
    "kernelspec": {
      "name": "python3",
      "display_name": "Python 3"
    },
    "language_info": {
      "name": "python"
    }
  },
  "cells": [
    {
      "cell_type": "code",
      "execution_count": 1,
      "metadata": {
        "id": "pKzGa_E9A2S7"
      },
      "outputs": [],
      "source": [
        "import numpy as np\n",
        "import pandas as pd\n",
        "import seaborn as sns\n",
        "import matplotlib.pyplot as plt\n",
        "import scipy"
      ]
    },
    {
      "cell_type": "markdown",
      "source": [
        "# EJEMPLO CON DATOS CONTROLADOS PARA PROBAR NUESTRA REGRESIÓN LINEAL SIMPLE"
      ],
      "metadata": {
        "id": "MVJHQHv6BLQm"
      }
    },
    {
      "cell_type": "code",
      "source": [
        "x = np.array([0,1,2,3,4])\n",
        "y = np.array([2,2.8,3.6,4.4,5.2])\n",
        "sns.scatterplot(x=x,y=y)"
      ],
      "metadata": {
        "colab": {
          "base_uri": "https://localhost:8080/",
          "height": 447
        },
        "id": "LV-V8rF-BNxv",
        "outputId": "2f4ba708-1a07-4ef9-91ca-c58aba537e0b"
      },
      "execution_count": 2,
      "outputs": [
        {
          "output_type": "execute_result",
          "data": {
            "text/plain": [
              "<Axes: >"
            ]
          },
          "metadata": {},
          "execution_count": 2
        },
        {
          "output_type": "display_data",
          "data": {
            "text/plain": [
              "<Figure size 640x480 with 1 Axes>"
            ],
            "image/png": "[encoded data removed]"
          },
          "metadata": {}
        }
      ]
    },
    {
      "cell_type": "markdown",
      "source": [
        "## CORRELACION"
      ],
      "metadata": {
        "id": "PPKRw9F1CcWo"
      }
    },
    {
      "cell_type": "code",
      "source": [
        "np.corrcoef(x,y)"
      ],
      "metadata": {
        "colab": {
          "base_uri": "https://localhost:8080/"
        },
        "id": "hvBrhPSiCdkf",
        "outputId": "f393b06d-944e-4978-a1ac-a5ab0a265467"
      },
      "execution_count": 7,
      "outputs": [
        {
          "output_type": "execute_result",
          "data": {
            "text/plain": [
              "array([[1., 1.],\n",
              "       [1., 1.]])"
            ]
          },
          "metadata": {},
          "execution_count": 7
        }
      ]
    },
    {
      "cell_type": "markdown",
      "source": [
        "## REGRESION LINEAL SIMPLE"
      ],
      "metadata": {
        "id": "wqKsahOeBiiH"
      }
    },
    {
      "cell_type": "code",
      "source": [
        "result = scipy.stats.linregress(x,y)\n",
        "result"
      ],
      "metadata": {
        "colab": {
          "base_uri": "https://localhost:8080/"
        },
        "id": "0qMey9hcBkRv",
        "outputId": "6a02c358-49e9-4cdd-bd91-f8fda624873b"
      },
      "execution_count": 4,
      "outputs": [
        {
          "output_type": "execute_result",
          "data": {
            "text/plain": [
              "LinregressResult(slope=0.8, intercept=2.0, rvalue=0.9999999999999999, pvalue=1.4044551538035188e-24, stderr=6.882551541204761e-09, intercept_stderr=1.6858739404357616e-08)"
            ]
          },
          "metadata": {},
          "execution_count": 4
        }
      ]
    },
    {
      "cell_type": "code",
      "source": [
        "print(f'pendiente (slope) : {result.slope}')\n",
        "print(f'intercepto(valor de y cuando x es 0) : {result.intercept}')\n",
        "print(f'coeficiente de correlación (rvalue) : {result.rvalue}')"
      ],
      "metadata": {
        "colab": {
          "base_uri": "https://localhost:8080/"
        },
        "id": "EPUS5ADnB5Ju",
        "outputId": "2b7e614e-027c-468d-e4eb-9672003b0a5a"
      },
      "execution_count": 8,
      "outputs": [
        {
          "output_type": "stream",
          "name": "stdout",
          "text": [
            "pendiente (slope) : 0.8\n",
            "intercepto(valor de y cuando x es 0) : 2.0\n",
            "coeficiente de correlación (rvalue) : 0.9999999999999999\n"
          ]
        }
      ]
    },
    {
      "cell_type": "markdown",
      "source": [
        "𝑦\n",
        "=\n",
        "𝑚\n",
        "𝑥\n",
        "+\n",
        "𝑏\n",
        "\n",
        "\n",
        "donde:\n",
        "\n",
        "\n",
        "1. m es la pendiente (slope)\n",
        "2. b es el intercepto (intercept)\n",
        "3. x es el valor nuevo para el cual quieres predecir"
      ],
      "metadata": {
        "id": "nf1YQFxHDHM3"
      }
    },
    {
      "cell_type": "code",
      "source": [
        "m = result.slope\n",
        "b = result.intercept"
      ],
      "metadata": {
        "id": "jns5VZpzDIb_"
      },
      "execution_count": 10,
      "outputs": []
    },
    {
      "cell_type": "markdown",
      "source": [
        "HAGAMOS UNA PREDICCIÓN"
      ],
      "metadata": {
        "id": "ECBYtq1qDQz_"
      }
    },
    {
      "cell_type": "code",
      "source": [
        "x_new = 5\n",
        "\n",
        "y_pred = m * x_new + b\n",
        "print(f'cuando x = {x_new} : y = {y_pred}')"
      ],
      "metadata": {
        "colab": {
          "base_uri": "https://localhost:8080/"
        },
        "id": "As_6FWRNDSqH",
        "outputId": "bf9a69ba-c9ec-47b7-ac50-ec42e2d43fde"
      },
      "execution_count": 11,
      "outputs": [
        {
          "output_type": "stream",
          "name": "stdout",
          "text": [
            "cuando x = 5 : y = 6.0\n"
          ]
        }
      ]
    },
    {
      "cell_type": "markdown",
      "source": [
        "GRAFICAMOS NUESTRA REGRESIÓN LINEAL"
      ],
      "metadata": {
        "id": "69U_NosYD3aX"
      }
    },
    {
      "cell_type": "code",
      "source": [
        "y_pred_x = m * x + b\n",
        "plt.figure(figsize=(10,6))\n",
        "plt.scatter(x,y,color='blue',label='datos observador')\n",
        "plt.xlabel('x')\n",
        "plt.ylabel('y')\n",
        "plt.plot(x,y_pred_x,color='red',label='Linea de regresión')\n",
        "plt.scatter(x_new,y_pred,color='green',marker='o',s=100,label=f'predicción para x={x_new}')\n",
        "\n",
        "plt.legend()\n",
        "plt.show()"
      ],
      "metadata": {
        "colab": {
          "base_uri": "https://localhost:8080/",
          "height": 542
        },
        "id": "Ku0ipSiYD5JA",
        "outputId": "25221c4a-9ea9-4694-86cf-221d02c0269a"
      },
      "execution_count": 17,
      "outputs": [
        {
          "output_type": "display_data",
          "data": {
            "text/plain": [
              "<Figure size 1000x600 with 1 Axes>"
            ],
            "image/png": "[encoded data removed]"
          },
          "metadata": {}
        }
      ]
    }
  ]
}